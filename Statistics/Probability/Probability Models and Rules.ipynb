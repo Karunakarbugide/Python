{
 "cells": [
  {
   "cell_type": "markdown",
   "id": "8ef55f4e",
   "metadata": {},
   "source": [
    "# Basic probability rules and models"
   ]
  },
  {
   "cell_type": "markdown",
   "id": "84d83977",
   "metadata": {},
   "source": [
    "Probability gives you the information about how likely an event can occur.\n",
    "\n",
    "1. **Trial or Experiment**: The act that leads to a result with certain possibility.\n",
    "2. **Sample space**: The set of all the possible outcomes of an experiment.\n",
    "3. **Event**: Non empty subset of sample space is know as event\n",
    "\n",
    "In technical terms, probability is the measure of how likely an event is when an experiment is conducted."
   ]
  },
  {
   "cell_type": "markdown",
   "id": "76356073",
   "metadata": {},
   "source": [
    "As per the defination, if A is an event of an experiment and it contains n outcomes and S is the same sample sapce then,\n",
    "\n",
    "$$\n",
    "P(A)=e^x=\\sum_{i=1}^nP(E_i)\n",
    "$$\n",
    "\n",
    "Where $E_1$.... $E_n$ are the outcomes in A. if all the outcomes of the experiment are equally likely then\n",
    "\n",
    "$$P(A)=\\frac{No.of outcomes in A}{No.of outcomes in S}$$\n",
    "\n",
    "\n",
    "Hence the value of probabilyt is between **0** and **1**. As the sample space is the whole possible set of outcomes. $P(S)=1$\n",
    "\n",
    "\n",
    "**Complement of A**: Complement of an event A means not(A). Probability of complement event of A means the probability of all the outcomes in sample space other than the ones in A. Denoted by $(A^c)$ nad $P(A^c)=1-P(A)$\n",
    "\n",
    "**Union and intersection**: The probability of intersection of two events A and B is $P(AunionB)$. When a event A occurs in union with event B the probability together is defined as   *formuala* which is also know as the addiiton rule of probability.\n",
    "\n",
    "**Mutually exclusive**: Any two evetns are mutually exclusive when they have non-overlapping outcomes i.e if A and B are two mutually exclusive events then, P(AintersectionB)=0. From the addition rule of probability.\n",
    "\n",
    "$$P(A union B) =P(A)+P(B)$$\n",
    "\n",
    "**Independent**: Any two evetns are independent of each other if one has zero effect on other i.e the occurance of one event doesn't effect the occurence of the other. If A and B are two independent evetns then, $P(A intersection B)=P(A)*P(B)$\n",
    "\n",
    "**Sum rule**: sum rule states that \n",
    "\n",
    "$$P(A)=\\sum_BP(A  and  B)$$\n",
    "\n",
    "This is also know as marginal probability as it denotes the probability of event A by removing out the influence of other evetns that it is together defined with.\n",
    "\n",
    "**Example:** If the probability that it rains on Tuesday is 0.2 and the probability that it rains on other days this week is 0.5, what is the probability that it will rain this week?.\n",
    "\n",
    "**Solution:** From the sum rule, P(rain) = P(rain and it is a Tuesday) + P(rain and it is not Tuesday). Hence the P(rain) = 0.7\n"
   ]
  },
  {
   "cell_type": "markdown",
   "id": "afc97500",
   "metadata": {},
   "source": [
    "# TEST YOUR UNDERSTANDING"
   ]
  },
  {
   "cell_type": "markdown",
   "id": "4bdbdc61",
   "metadata": {},
   "source": [
    "Mike wants to go fishing this weekend to nearby lake. His neighbour Alice (is the one Mike was hoping to ask out since long time) is also planing to go to the same spot for fishing this weekend. The probability that it will rain this weekend is . There are two possible ways to reach the fishing spot (bus or train). The probability that Mike will take the bus is  and that Alice will take the bus is . Travel plans of both are independent of each other and rain.\n",
    "\n",
    "What is the probability  that Mike and Alice meet each other only (should not meet in bus or train) in a romantic setup (on a lake in rain)?\n",
    "\n",
    "Input constraints\n",
    "\n",
    ", , \n",
    "\n",
    "Input format\n",
    "\n",
    "FIrst line: \n",
    "\n",
    "Second line: \n",
    "\n",
    "Third line: \n",
    "\n",
    "Output format\n",
    "\n",
    ", rounded up to six decimal places."
   ]
  },
  {
   "cell_type": "code",
   "execution_count": null,
   "id": "722d8a5f",
   "metadata": {},
   "outputs": [],
   "source": []
  }
 ],
 "metadata": {
  "kernelspec": {
   "display_name": "Python 3",
   "language": "python",
   "name": "python3"
  },
  "language_info": {
   "codemirror_mode": {
    "name": "ipython",
    "version": 3
   },
   "file_extension": ".py",
   "mimetype": "text/x-python",
   "name": "python",
   "nbconvert_exporter": "python",
   "pygments_lexer": "ipython3",
   "version": "3.8.8"
  }
 },
 "nbformat": 4,
 "nbformat_minor": 5
}
