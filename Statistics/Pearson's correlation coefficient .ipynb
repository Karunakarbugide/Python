{
 "cells": [
  {
   "cell_type": "markdown",
   "id": "b89435be",
   "metadata": {},
   "source": [
    "Variables with in a dataset can be realted for lot of reasons\n",
    "1. One variable could cause or depend on the values of another variable.\n",
    "2. One variable could be lightly associated with another variable \n",
    "3. Two varaibles could depend on a third unknow variable"
   ]
  },
  {
   "cell_type": "code",
   "execution_count": 8,
   "id": "3cfb6595",
   "metadata": {},
   "outputs": [
    {
     "name": "stdout",
     "output_type": "stream",
     "text": [
      "data1: mean=100.776 stdv=19.620\n",
      "data2: mean=151.050 stdv=22.358\n"
     ]
    }
   ],
   "source": [
    "# generate related variables\n",
    "from numpy import mean\n",
    "from numpy import std\n",
    "from numpy.random import randn\n",
    "from numpy.random import seed\n",
    "from matplotlib import pyplot\n",
    "# seed random number generator\n",
    "seed(1)\n",
    "# prepare data\n",
    "data1 = 20 * randn(1000) + 100\n",
    "data2 = data1 + (10 * randn(1000) + 50)\n",
    "# summarize\n",
    "print('data1: mean=%.3f stdv=%.3f' % (mean(data1), std(data1)))\n",
    "print('data2: mean=%.3f stdv=%.3f' % (mean(data2), std(data2)))\n"
   ]
  },
  {
   "cell_type": "markdown",
   "id": "fdf567b2",
   "metadata": {},
   "source": [
    "A scatter plot of the two variables will expalain the relation between two varaibles"
   ]
  },
  {
   "cell_type": "code",
   "execution_count": 9,
   "id": "2d9d10ca",
   "metadata": {},
   "outputs": [
    {
     "data": {
      "image/png": "[encoded data removed]",
      "text/plain": [
       "<Figure size 432x288 with 1 Axes>"
      ]
     },
     "metadata": {
      "needs_background": "light"
     },
     "output_type": "display_data"
    }
   ],
   "source": [
    "# plot\n",
    "pyplot.scatter(data1, data2)\n",
    "pyplot.show()"
   ]
  },
  {
   "cell_type": "markdown",
   "id": "fdec6141",
   "metadata": {},
   "source": [
    "# Covariance"
   ]
  },
  {
   "cell_type": "markdown",
   "id": "e41d33ac",
   "metadata": {},
   "source": [
    "Variables can be related by a linear relationship. This is a relationship that is consistently additive across the two data samples.\n",
    "\n",
    "This relationships can be summarized between two variables, called the **Covariance**. It is calcualted as the average of the product between the values from each sample, where the values haven been centered.\n",
    "\n",
    "The calculation of the same covariance is as follow:\n",
    "\n",
    "**cov(X, Y) = (sum (x - mean(X)) * (y - mean(Y)) ) * 1/(n-1)**\n",
    "\n",
    "The use ofthe mean in the calculation suggests the need for each data sample to have a Gaussian or  Gaussian-like distribution."
   ]
  },
  {
   "cell_type": "code",
   "execution_count": 16,
   "id": "4bb20ace",
   "metadata": {},
   "outputs": [
    {
     "name": "stdout",
     "output_type": "stream",
     "text": [
      "[[385.33297729 389.7545618 ]\n",
      " [389.7545618  500.38006058]]\n"
     ]
    }
   ],
   "source": [
    "# the cov() Numpy function can be used to calculate a covariance matrix \n",
    "from numpy import cov\n",
    "covariance = cov(data1,data2)\n",
    "print(covariance)"
   ]
  },
  {
   "cell_type": "markdown",
   "id": "00b142c8",
   "metadata": {},
   "source": [
    "The covariance between the two varaibles is **389.75**.We can see that it is positive"
   ]
  },
  {
   "cell_type": "markdown",
   "id": "317722ed",
   "metadata": {},
   "source": [
    "# Correlation Coefficient\n",
    "\n",
    "The correlation coeffiecinet is the statistical measure of the strength of the relationship between the relative movements of two variables. The values range **-1.0** and **1.0**.\n",
    "\n",
    "A calculated number greater than 1.0 or less than -1.0 means that there was an error in the correlation measurement.\n",
    "1. A correlation of **-1.0** shows a perfect **negative correlation**, both varaibles change in same direction\n",
    "2. A correlation of **1.0** shows a perfect **positive correlation** both variables change in opposite direction.\n",
    "3. A correaltion of **0.0** shows (Neutral correlation) no linear relationship between the movement of the two variables. \n"
   ]
  },
  {
   "cell_type": "code",
   "execution_count": 10,
   "id": "4846cde2",
   "metadata": {},
   "outputs": [],
   "source": [
    "import math\n",
    "\n",
    "def P(A,B):\n",
    "    n = float(len(A))\n",
    "    muA = sum(A)/n\n",
    "    muB = sum(B)/n\n",
    "    diffA = map(lambda x: x - muA, A)\n",
    "    diffB = map(lambda x: x - muB, B)\n",
    "    stdA = math.sqrt((1/(n-1))* sum([d*d for d in diffA]))\n",
    "    stdB = math.sqrt((1/(n-1))* sum([d*d for d in diffB]))\n",
    "    return (sum([A[i]*B[i] for i in range(int(n))]) - n * muA * muB) / ((n-1) * stdA * stdB)"
   ]
  },
  {
   "cell_type": "code",
   "execution_count": 11,
   "id": "39f311e6",
   "metadata": {},
   "outputs": [
    {
     "name": "stdout",
     "output_type": "stream",
     "text": [
      "0.145\n"
     ]
    }
   ],
   "source": [
    "A = [15,12,8,8,7,7,7,6,5,3]\n",
    "B = [10,25,17,11,13,17,20,13,9,15]\n",
    "print ('%.3f' % (P(A,B)))"
   ]
  },
  {
   "cell_type": "code",
   "execution_count": 12,
   "id": "4297cb95",
   "metadata": {},
   "outputs": [
    {
     "data": {
      "image/png": "[encoded data removed]",
      "text/plain": [
       "<Figure size 432x288 with 1 Axes>"
      ]
     },
     "metadata": {
      "needs_background": "light"
     },
     "output_type": "display_data"
    }
   ],
   "source": [
    "from matplotlib import pyplot\n",
    "pyplot.scatter(A, B)\n",
    "pyplot.show()"
   ]
  },
  {
   "cell_type": "markdown",
   "id": "c2ee9f72",
   "metadata": {},
   "source": [
    "# Pearson's Correlation"
   ]
  },
  {
   "cell_type": "markdown",
   "id": "910126ed",
   "metadata": {},
   "source": [
    "The pearson correlation coefficient can be used to summarize the strength of the linear relationship between two data points.\n",
    "\n",
    "The pearson's correlation coefficient is calcualted as the coviarance of the two variables devided by the product of the standarad deviation of the each varaible. It is the normalization of the covariance between the two variables to give an interpreatable score.\n",
    "\n",
    "The coefficinet return a value between **-1** and **1** and **1** that represents the limits of correlation from a full **negative correlation** to full **postive correlation**. The value must be interpreted, where often a value below **-0.5** or above **0.5** indicated a notable correlation and vlaues below thos values suggests a less notable correlation.\n",
    "\n",
    "The *pearsonr()* Scipy function can be used o calculate the Pearson's correlation cofficient between two data samples with the same length. \n",
    "\n",
    "We can calculate the correaltion between the two variables as follows. "
   ]
  },
  {
   "cell_type": "code",
   "execution_count": 17,
   "id": "2179f3a7",
   "metadata": {},
   "outputs": [
    {
     "name": "stdout",
     "output_type": "stream",
     "text": [
      "Pearsons correlation: 0.888\n"
     ]
    }
   ],
   "source": [
    "\n",
    "# calculate the Pearson's correlation between two variables\n",
    "from numpy.random import randn\n",
    "from numpy.random import seed\n",
    "from scipy.stats import pearsonr\n",
    "# seed random number generator\n",
    "seed(1)\n",
    "# prepare data\n",
    "data1 = 20 * randn(1000) + 100\n",
    "data2 = data1 + (10 * randn(1000) + 50)\n",
    "# calculate Pearson's correlation\n",
    "corr, _ = pearsonr(data1, data2)\n",
    "print('Pearsons correlation: %.3f' % corr)"
   ]
  },
  {
   "cell_type": "markdown",
   "id": "a4c9d6c0",
   "metadata": {},
   "source": [
    "We can see that two varaibles are postively correlated and that the correlation is **0.8**. This suggests a high level of correaltion"
   ]
  },
  {
   "cell_type": "code",
   "execution_count": 18,
   "id": "f9c39646",
   "metadata": {},
   "outputs": [
    {
     "data": {
      "image/png": "[encoded data removed]",
      "text/plain": [
       "<Figure size 432x288 with 1 Axes>"
      ]
     },
     "metadata": {
      "needs_background": "light"
     },
     "output_type": "display_data"
    }
   ],
   "source": [
    "pyplot.scatter(data1, data2)\n",
    "pyplot.show()"
   ]
  },
  {
   "cell_type": "markdown",
   "id": "7326a60a",
   "metadata": {},
   "source": [
    "# Spearman's Correlation"
   ]
  },
  {
   "cell_type": "markdown",
   "id": "c6018e09",
   "metadata": {},
   "source": [
    "Two variables may be related by a non linear realtionship, such that the relationship is stronger or weaker across the distribution of the variables.\n",
    "\n",
    "\n",
    "Further, the two variables being considered may have a non-Gaussian distribution.\n",
    "\n",
    "The Spearman's correlation coefficinet (Charales Spearman) can be used to summarize the strength between the two data samples. This test of relationship can also be used if there is linear relationship between the varaibles, but will have slightly less power(e.g may result in lower coefficient scores)\n",
    "\n",
    "As the Pearson correlation coefficient, the scores are between -1 and 1 for perfectly negative correalted and perfectly positive correalted respectively.\n",
    "\n",
    "In stead of calculating the coefficient using covariance ans standard deviation on the samples themselves, these statistics are calculated from the rankof the values on each sample. This is common approach in non-parametric statistics, e.g statistical methods where we do not assume a distribution of te data such as Gaussian.\n",
    "\n",
    "**Spearman's correlation coefficient = covariance(rank(X), rank(Y)) / (stdv(rank(X))**\n",
    "\n",
    "\n",
    "A lienar relationship between the variables is not asusme, although a montonic realtionship is assume. This is a mathematical name for an increasing or decreasing relationship between the two variables.\n",
    "\n",
    "If you are unsure of the distribution and possible relationship between two variable, Spearman's correaltion coefficinet is a good measurement to identify the relation between two variables.\n",
    "\n",
    "\n",
    "The *spearmanr()* SciPy function can be used to calculate tyhe Spearman's correlation coefficient between two datasamples with the same length.\n",
    "\n",
    "We can calculate the Spearman's correaltion coefficeint as follows:"
   ]
  },
  {
   "cell_type": "code",
   "execution_count": 20,
   "id": "dcc3d436",
   "metadata": {},
   "outputs": [
    {
     "name": "stdout",
     "output_type": "stream",
     "text": [
      "Spearmans correlation: 0.872\n"
     ]
    }
   ],
   "source": [
    "# calculate the spearmans's correlation between two variables\n",
    "from numpy.random import randn\n",
    "from numpy.random import seed\n",
    "from scipy.stats import spearmanr\n",
    "# seed random number generator\n",
    "seed(1)\n",
    "# prepare data\n",
    "data1 = 20 * randn(1000) + 100\n",
    "data2 = data1 + (10 * randn(1000) + 50)\n",
    "# calculate spearman's correlation\n",
    "corr, _ = spearmanr(data1, data2)\n",
    "print('Spearmans correlation: %.3f' % corr)"
   ]
  },
  {
   "cell_type": "markdown",
   "id": "2c5a012f",
   "metadata": {},
   "source": [
    "We know that the data is Gaussian and that the relationship between the varaible is linear. Neverthles, the nonparametric rank-based approach shows a strong corelation between the varibales of **0.8** "
   ]
  },
  {
   "cell_type": "code",
   "execution_count": 21,
   "id": "be329b58",
   "metadata": {},
   "outputs": [
    {
     "data": {
      "image/png": "[encoded data removed]",
      "text/plain": [
       "<Figure size 432x288 with 1 Axes>"
      ]
     },
     "metadata": {
      "needs_background": "light"
     },
     "output_type": "display_data"
    }
   ],
   "source": [
    "pyplot.scatter(data1, data2)\n",
    "pyplot.show()"
   ]
  },
  {
   "cell_type": "markdown",
   "id": "4349ecda",
   "metadata": {},
   "source": [
    "We learned:\n",
    "\n",
    "1. How to calculate a covariance matrix to summarize the linear relationship between two or more variables.\n",
    "2. How to calculate the Pearson’s correlation coefficient to summarize the linear relationship between two variables.\n",
    "3. How to calculate the Spearman’s correlation coefficient to summarize the monotonic relationship between two variables."
   ]
  },
  {
   "cell_type": "code",
   "execution_count": null,
   "id": "54068bcb",
   "metadata": {},
   "outputs": [],
   "source": []
  },
  {
   "cell_type": "code",
   "execution_count": null,
   "id": "2f045cf4",
   "metadata": {},
   "outputs": [],
   "source": []
  },
  {
   "cell_type": "code",
   "execution_count": null,
   "id": "d23e6284",
   "metadata": {},
   "outputs": [],
   "source": []
  },
  {
   "cell_type": "code",
   "execution_count": null,
   "id": "838364af",
   "metadata": {},
   "outputs": [],
   "source": []
  },
  {
   "cell_type": "code",
   "execution_count": null,
   "id": "53f63ae6",
   "metadata": {},
   "outputs": [],
   "source": []
  },
  {
   "cell_type": "code",
   "execution_count": null,
   "id": "208fc180",
   "metadata": {},
   "outputs": [],
   "source": []
  },
  {
   "cell_type": "code",
   "execution_count": null,
   "id": "eda20e21",
   "metadata": {},
   "outputs": [],
   "source": []
  },
  {
   "cell_type": "code",
   "execution_count": null,
   "id": "8fcbb913",
   "metadata": {},
   "outputs": [],
   "source": []
  },
  {
   "cell_type": "code",
   "execution_count": null,
   "id": "c5051f0b",
   "metadata": {},
   "outputs": [],
   "source": []
  },
  {
   "cell_type": "code",
   "execution_count": null,
   "id": "03be4016",
   "metadata": {},
   "outputs": [],
   "source": []
  },
  {
   "cell_type": "code",
   "execution_count": null,
   "id": "123561bb",
   "metadata": {},
   "outputs": [],
   "source": []
  },
  {
   "cell_type": "code",
   "execution_count": null,
   "id": "035669e6",
   "metadata": {},
   "outputs": [],
   "source": []
  },
  {
   "cell_type": "code",
   "execution_count": null,
   "id": "9ecf4345",
   "metadata": {},
   "outputs": [],
   "source": []
  },
  {
   "cell_type": "code",
   "execution_count": null,
   "id": "1f0500c5",
   "metadata": {},
   "outputs": [],
   "source": []
  },
  {
   "cell_type": "code",
   "execution_count": null,
   "id": "7e7232c0",
   "metadata": {},
   "outputs": [],
   "source": []
  },
  {
   "cell_type": "code",
   "execution_count": null,
   "id": "8e535579",
   "metadata": {},
   "outputs": [],
   "source": []
  },
  {
   "cell_type": "code",
   "execution_count": null,
   "id": "9684ea93",
   "metadata": {},
   "outputs": [],
   "source": []
  },
  {
   "cell_type": "code",
   "execution_count": null,
   "id": "4136f072",
   "metadata": {},
   "outputs": [],
   "source": []
  },
  {
   "cell_type": "code",
   "execution_count": null,
   "id": "5e3a250f",
   "metadata": {},
   "outputs": [],
   "source": []
  },
  {
   "cell_type": "code",
   "execution_count": null,
   "id": "ddc4fde8",
   "metadata": {},
   "outputs": [],
   "source": []
  },
  {
   "cell_type": "code",
   "execution_count": null,
   "id": "84270a2b",
   "metadata": {},
   "outputs": [],
   "source": []
  },
  {
   "cell_type": "code",
   "execution_count": null,
   "id": "77cdcf03",
   "metadata": {},
   "outputs": [],
   "source": []
  },
  {
   "cell_type": "code",
   "execution_count": null,
   "id": "08b6c86d",
   "metadata": {},
   "outputs": [],
   "source": []
  },
  {
   "cell_type": "code",
   "execution_count": null,
   "id": "037c0e31",
   "metadata": {},
   "outputs": [],
   "source": []
  },
  {
   "cell_type": "code",
   "execution_count": null,
   "id": "d52f9198",
   "metadata": {},
   "outputs": [],
   "source": []
  },
  {
   "cell_type": "code",
   "execution_count": null,
   "id": "d7ce3f0a",
   "metadata": {},
   "outputs": [],
   "source": []
  }
 ],
 "metadata": {
  "kernelspec": {
   "display_name": "Python 3",
   "language": "python",
   "name": "python3"
  },
  "language_info": {
   "codemirror_mode": {
    "name": "ipython",
    "version": 3
   },
   "file_extension": ".py",
   "mimetype": "text/x-python",
   "name": "python",
   "nbconvert_exporter": "python",
   "pygments_lexer": "ipython3",
   "version": "3.8.8"
  }
 },
 "nbformat": 4,
 "nbformat_minor": 5
}
