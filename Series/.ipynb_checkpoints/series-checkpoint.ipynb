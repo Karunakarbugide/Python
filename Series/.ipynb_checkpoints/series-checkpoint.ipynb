{
 "cells": [
  {
   "cell_type": "markdown",
   "id": "646a46f7",
   "metadata": {},
   "source": [
    "# Introduction to Pandas Series"
   ]
  },
  {
   "cell_type": "markdown",
   "id": "93509270",
   "metadata": {},
   "source": [
    "Pandas **Series** is one of the Data Structures supported in Python. Series objects can be thought of as a NumPy array joined with an array of labels. It is a one-dimensional array of indexed data."
   ]
  },
  {
   "cell_type": "markdown",
   "id": "4ca524c8",
   "metadata": {},
   "source": [
    "##  What is Pandas Series?\n",
    "\n",
    "Pandas Series is a one-dimensional array of indexed data. The index of the series objects supports label-based and integer-based indexing. It is able to hold various data types like integer, float, strings, and objects.\n",
    "It supports multiple operations involving the index. It can be created using a list or a Numpy array."
   ]
  },
  {
   "cell_type": "markdown",
   "id": "5d5144f1",
   "metadata": {},
   "source": [
    "## Create a Pandas Series from a List\n",
    "\n",
    "Enough of theory, now get ready to do some hands-on. \n",
    "\n",
    "To create the Series Object a list of data to be passed in Series() Function. This function is available inside the Pandas Module. Hence before creating Series Object we have to import pandas library using:\n",
    "\n",
    "import pandas\n",
    "\n",
    "Following is the syntax for Series Creation:\n",
    "\n",
    "<Series Object> = pandas.Series(data)\n",
    "<Series Object> = pandas.Series(data=None, index=None, dtype=None, name=None, copy=False)\n",
    "    \n",
    "**data**: data parameter provides data for Series creation, it can be a Sequence or Scalar Value \n",
    "**index**: This is used to change the default index of Series\n",
    "**dtype**: It is used to change the default datatype of Series \n",
    "**name**: To give a name to Series\n",
    "**copy**: To copy input Data, A boolean Value by default is false\n",
    "\n",
    "By default, the index of series will be integers starting from 0,1,2...etc. as shown above in Fig-1 Series.\n",
    "Use of different types of Data\n",
    "\n",
    "In Series Data Structure, we can use our own data for creating the series. This data can be of different types. \n",
    "\n",
    "<Series Object> =  pandas.Series(data=None, index=None, dtype=None, name=None, copy=False, fastpath=False)\n",
    "The data can be:\n",
    "    Without Data (Empty Series)\n",
    "    A scalar value\n",
    "    A python sequence (ex:- list, tuple, dictionary etc.)\n",
    "    A ndarray\n",
    "\n",
    "Let us discuss each one by one with Pandas Series Examples.\n",
    "\n"
   ]
  },
  {
   "cell_type": "markdown",
   "id": "63ee5b96",
   "metadata": {},
   "source": [
    "### Without Data (Empty Series)\n",
    "If we do not provide any data then python pandas will create an empty series. The default data type that pandas provide to series is \"float64\". In the following example, you can see that I have not provided any parameter in Series() function. This will create an empty series.\n",
    "  "
   ]
  },
  {
   "cell_type": "code",
   "execution_count": 4,
   "id": "c3762644",
   "metadata": {},
   "outputs": [
    {
     "name": "stdout",
     "output_type": "stream",
     "text": [
      "Series([], dtype: float64)\n",
      "<class 'pandas.core.series.Series'>\n"
     ]
    },
    {
     "name": "stderr",
     "output_type": "stream",
     "text": [
      "<ipython-input-4-c1c4aa9e41c3>:2: DeprecationWarning: The default dtype for empty Series will be 'object' instead of 'float64' in a future version. Specify a dtype explicitly to silence this warning.\n",
      "  x = pd.Series()\n"
     ]
    }
   ],
   "source": [
    "import pandas as pd\n",
    "x = pd.Series()\n",
    "print(x)\n",
    "print(type(x))\n"
   ]
  },
  {
   "cell_type": "markdown",
   "id": "ad1d6adf",
   "metadata": {},
   "source": [
    "### A Scalar Value\n",
    "A Pandas Series can be created with only single Parameters. This will create a Series Object with only a single value. In the following example, you can see that I have provided a value 20 only. A Series Object 's' has been created by Pandas with value 20.  "
   ]
  },
  {
   "cell_type": "code",
   "execution_count": 9,
   "id": "0704f342",
   "metadata": {},
   "outputs": [
    {
     "name": "stdout",
     "output_type": "stream",
     "text": [
      "0    20\n",
      "dtype: int64\n",
      "<class 'pandas.core.series.Series'>\n"
     ]
    }
   ],
   "source": [
    "import pandas as pd\n",
    "\n",
    "x = pd.Series(20)\n",
    "print(x)\n",
    "print(type(x))"
   ]
  },
  {
   "cell_type": "markdown",
   "id": "3f6a23c4",
   "metadata": {},
   "source": [
    "### A python sequence (ex:- list, tuple, dictionary etc.)\n",
    "A Python sequence can be used for the creation of Series Object. Any Python Sequence like list, tuple or dictionary can be used for this purpose. Next, we will create a series using **List** and **Dictionary**."
   ]
  },
  {
   "cell_type": "code",
   "execution_count": 8,
   "id": "76c558e2",
   "metadata": {},
   "outputs": [
    {
     "name": "stdout",
     "output_type": "stream",
     "text": [
      "0            a\n",
      "1            1\n",
      "2    karunakar\n",
      "3     engineer\n",
      "dtype: object\n",
      "<class 'pandas.core.series.Series'>\n"
     ]
    }
   ],
   "source": [
    "import pandas as pd\n",
    "\n",
    "my_list =['a',1,'karunakar','engineer']\n",
    "x = pd.Series(my_list)\n",
    "\n",
    "print(x)\n",
    "print(type(x))"
   ]
  },
  {
   "cell_type": "markdown",
   "id": "4865372a",
   "metadata": {},
   "source": [
    "### Using Dictionary: \n",
    "When a dictionary is used for Series creation, the values of that dictionary is used as data of Series and Keys are used as data labels (index) of Series."
   ]
  },
  {
   "cell_type": "code",
   "execution_count": 17,
   "id": "91417f55",
   "metadata": {},
   "outputs": [
    {
     "name": "stdout",
     "output_type": "stream",
     "text": [
      "{'name': 'Karunakar', 'age': 30, 'city': 'Bangalore', 'PIN': 560067}\n",
      "name    Karunakar\n",
      "age            30\n",
      "city    Bangalore\n",
      "PIN        560067\n",
      "dtype: object\n",
      "<class 'pandas.core.series.Series'>\n"
     ]
    }
   ],
   "source": [
    "import pandas as pd\n",
    "\n",
    "dict = {'name':\"Karunakar\", \"age\":30 , \"city\":\"Bangalore\",\"PIN\":560067}\n",
    "print(dict)\n",
    "x = pd.Series(dict)\n",
    "print(x)\n",
    "print(type(x))"
   ]
  },
  {
   "cell_type": "markdown",
   "id": "2fecebf1",
   "metadata": {},
   "source": [
    " ### A ndarray\n",
    "Numpy is a core library for numerical and scientific computation. We can use a one-dimensional Numpy array for Series creation. The Index or data labels of Series will come as 0,1,2....etc. by default."
   ]
  },
  {
   "cell_type": "code",
   "execution_count": 20,
   "id": "111a1d74",
   "metadata": {},
   "outputs": [
    {
     "name": "stdout",
     "output_type": "stream",
     "text": [
      "[1 2 3 4 5]\n",
      "0    1\n",
      "1    2\n",
      "2    3\n",
      "3    4\n",
      "4    5\n",
      "dtype: int32\n",
      "<class 'pandas.core.series.Series'>\n"
     ]
    }
   ],
   "source": [
    "import pandas as pd\n",
    "import numpy as np\n",
    "\n",
    "array = np.array([1,2,3,4,5])\n",
    "print(array)\n",
    "\n",
    "x = pd.Series(array)\n",
    "print(x)\n",
    "print(type(x))"
   ]
  },
  {
   "cell_type": "markdown",
   "id": "93509d75",
   "metadata": {},
   "source": [
    "### Converting Pandas Series to ndarray or ndarray-like\n",
    "\n",
    "Use pandas.Series.values() to return series as ndarray or ndarray-like depending on the data type. In the given example, .values() method return data type as ‘numpy.ndarray’."
   ]
  },
  {
   "cell_type": "code",
   "execution_count": 21,
   "id": "33733ac9",
   "metadata": {},
   "outputs": [
    {
     "name": "stdout",
     "output_type": "stream",
     "text": [
      "Series Data type:  <class 'pandas.core.series.Series'>\n",
      "Series.values Data type:  <class 'numpy.ndarray'>\n",
      "['1' '2' '3' '4' '5' '6' '7']\n"
     ]
    }
   ],
   "source": [
    "# Create Series from Dictionary\n",
    "import pandas as pd\n",
    "\n",
    "# Create a dict data\n",
    "data ={'A' : '1', 'B' : '2', 'C': '3', 'D':'4', 'E':'5', 'F':'6', 'G':'7'}\n",
    "\n",
    "# Pass the list object to series\n",
    "series_3 = pd.Series(data)\n",
    "\n",
    "# Series as ndarray\n",
    "print(\"Series Data type: \", type(series_3))\n",
    "print(\"Series.values Data type: \",type(series_3.values))\n",
    "print(series_3.values)"
   ]
  },
  {
   "cell_type": "markdown",
   "id": "0190b323",
   "metadata": {},
   "source": [
    "# Slicing Pandas Series\n",
    "Pandas provides options to subset the series either by using integer position or label-based slicing.  We will discuss .loc and .iloc methods for pandas slicing.\n",
    "\n",
    "pandas.Series.loc[] – is label-based method\n",
    "pandas.Series.iloc[] – is integer position based method"
   ]
  },
  {
   "cell_type": "code",
   "execution_count": 22,
   "id": "4915ed14",
   "metadata": {},
   "outputs": [
    {
     "name": "stdout",
     "output_type": "stream",
     "text": [
      "A    101\n",
      "B    201\n",
      "C    301\n",
      "D    401\n",
      "E    501\n",
      "F    601\n",
      "G    701\n",
      "dtype: int64\n"
     ]
    }
   ],
   "source": [
    "# Create Series from Dictionary\n",
    "import pandas as pd\n",
    "\n",
    "# Create a dict data\n",
    "data ={'A' : 101, 'B' : 201, 'C': 301, 'D':401, 'E':501, 'F':601, 'G':701}\n",
    "\n",
    "# Pass the list object to series\n",
    "ser = pd.Series(data)\n",
    "print(ser)"
   ]
  },
  {
   "cell_type": "markdown",
   "id": "7c6b4659",
   "metadata": {},
   "source": [
    "# Slicing Series using .iloc[]\n",
    "The .iloc function can extract single or multiple elements from a series using positions."
   ]
  },
  {
   "cell_type": "code",
   "execution_count": 23,
   "id": "b849b042",
   "metadata": {},
   "outputs": [
    {
     "name": "stdout",
     "output_type": "stream",
     "text": [
      "Selecting Single Element, 0th position or first element:  101\n"
     ]
    }
   ],
   "source": [
    "# Selecting Single element from the series\n",
    "print('Selecting Single Element, 0th position or first element: ', ser.iloc[0])\n"
   ]
  },
  {
   "cell_type": "code",
   "execution_count": 24,
   "id": "84cdbb43",
   "metadata": {},
   "outputs": [
    {
     "name": "stdout",
     "output_type": "stream",
     "text": [
      "Selecting Multiple Elements, from 2nd to 6th :  C    301\n",
      "D    401\n",
      "E    501\n",
      "F    601\n",
      "dtype: int64\n"
     ]
    }
   ],
   "source": [
    "# Selecting Multiple elements from the series\n",
    "print('Selecting Multiple Elements, from 2nd to 6th : ', ser.iloc[2:6])"
   ]
  },
  {
   "cell_type": "markdown",
   "id": "1396f299",
   "metadata": {},
   "source": [
    "# Assignment Operation on Series\n",
    "Series values can be modified and accessed using the index label or position.\n",
    "\n",
    "Label based assignment, assign value ‘1000’ to series element with index value equal to “A”."
   ]
  },
  {
   "cell_type": "code",
   "execution_count": 25,
   "id": "5b925c47",
   "metadata": {},
   "outputs": [
    {
     "name": "stdout",
     "output_type": "stream",
     "text": [
      "Before Change:  101\n",
      "After Change:  1000\n"
     ]
    }
   ],
   "source": [
    "# Before Changes\n",
    "print('Before Change: ', ser['A'])\n",
    "\n",
    "# After changes\n",
    "ser['A'] = 1000\n",
    "\n",
    "print('After Change: ', ser['A'])"
   ]
  },
  {
   "cell_type": "markdown",
   "id": "8ae10c10",
   "metadata": {},
   "source": [
    "# Delete Operation on Series\n",
    "Pandas has provided two functions .pop() and .drop() to delete the item from series using index label."
   ]
  },
  {
   "cell_type": "code",
   "execution_count": 26,
   "id": "597be966",
   "metadata": {},
   "outputs": [
    {
     "data": {
      "text/plain": [
       "501"
      ]
     },
     "execution_count": 26,
     "metadata": {},
     "output_type": "execute_result"
    }
   ],
   "source": [
    "# Pandas .pop method to delete a index\n",
    "ser.pop('E')"
   ]
  },
  {
   "cell_type": "markdown",
   "id": "f329ff2e",
   "metadata": {},
   "source": [
    "# Statistical Operations on Pandas Series\n",
    "\n",
    "Pandas has provided many functions for statistical operations on series. You can apply arithmetic and statistical methods similar to the NumPy array."
   ]
  },
  {
   "cell_type": "code",
   "execution_count": 27,
   "id": "54cf95e2",
   "metadata": {},
   "outputs": [
    {
     "name": "stdout",
     "output_type": "stream",
     "text": [
      "Series Value:  [16  7 13 16 18 10 12 13 17  6]\n",
      "Sort Series Value:  [ 6  7 10 12 13 13 16 16 17 18]\n",
      "Length of Series:  10\n",
      "Sum of Series:  128\n",
      "Mean of Series:  12.8\n",
      "Standard Deviation of series:  3.919183588453085\n",
      "Variance of Series:  15.36\n"
     ]
    }
   ],
   "source": [
    "# Import numpy and pandas\n",
    "import numpy as np\n",
    "import pandas as pd\n",
    "\n",
    "# Create data using random function\n",
    "np.random.seed(1234)\n",
    "data = np.random.randint(1, 20, 10)\n",
    "\n",
    "ser = pd.Series(data)\n",
    "\n",
    "# Print Series as ndarray\n",
    "print(\"Series Value: \", ser.values)\n",
    "\n",
    "# Sort series values\n",
    "print(\"Sort Series Value: \", ser.sort_values().values)\n",
    "\n",
    "# Length of series\n",
    "print('Length of Series: ', len(ser))\n",
    "\n",
    "# mean of series\n",
    "print('Sum of Series: ', np.sum(ser))\n",
    "\n",
    "# mean of series\n",
    "print('Mean of Series: ', np.mean(ser))\n",
    "\n",
    "# Standard Deviation of series\n",
    "print('Standard Deviation of series: ', np.std(ser))\n",
    "\n",
    "# variance of series\n",
    "print('Variance of Series: ', np.var(ser))"
   ]
  },
  {
   "cell_type": "markdown",
   "id": "48fd9fdd",
   "metadata": {},
   "source": [
    "Pandas Series is similar to a one-dimensional NumPy array. The major difference is that it gives control to the user to explicitly define the index whereas NumPy array has a non-immutable integer index. Therefore, Pandas provides more control over the series object."
   ]
  },
  {
   "cell_type": "code",
   "execution_count": null,
   "id": "e3c728f8",
   "metadata": {},
   "outputs": [],
   "source": []
  }
 ],
 "metadata": {
  "kernelspec": {
   "display_name": "Python 3",
   "language": "python",
   "name": "python3"
  },
  "language_info": {
   "codemirror_mode": {
    "name": "ipython",
    "version": 3
   },
   "file_extension": ".py",
   "mimetype": "text/x-python",
   "name": "python",
   "nbconvert_exporter": "python",
   "pygments_lexer": "ipython3",
   "version": "3.8.8"
  }
 },
 "nbformat": 4,
 "nbformat_minor": 5
}
